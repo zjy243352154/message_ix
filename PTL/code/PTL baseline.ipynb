{
 "cells": [
  {
   "cell_type": "code",
   "execution_count": 1,
   "metadata": {},
   "outputs": [
    {
     "data": {
      "application/javascript": [
       "IPython.OutputArea.prototype._should_scroll = function(lines) { return false; }"
      ],
      "text/plain": [
       "<IPython.core.display.Javascript object>"
      ]
     },
     "metadata": {},
     "output_type": "display_data"
    }
   ],
   "source": [
    "import pandas as pd\n",
    "import ixmp\n",
    "import message_ix\n",
    "\n",
    "from message_ix.utils import make_df\n",
    "\n",
    "%matplotlib inline"
   ]
  },
  {
   "cell_type": "code",
   "execution_count": 2,
   "metadata": {},
   "outputs": [],
   "source": [
    "mp = ixmp.Platform()"
   ]
  },
  {
   "cell_type": "code",
   "execution_count": 3,
   "metadata": {},
   "outputs": [],
   "source": [
    "scenario = message_ix.Scenario(mp, model='PTL model attempt', \n",
    "                               scenario='baseline', version='new')"
   ]
  },
  {
   "cell_type": "code",
   "execution_count": 4,
   "metadata": {},
   "outputs": [],
   "source": [
    "horizon = range(2020,2051,5)\n",
    "scenario.add_horizon(year=horizon)"
   ]
  },
  {
   "cell_type": "code",
   "execution_count": 5,
   "metadata": {},
   "outputs": [],
   "source": [
    "country = 'Chinese'\n",
    "scenario.add_spatial_sets({'country': country})"
   ]
  },
  {
   "cell_type": "code",
   "execution_count": 6,
   "metadata": {},
   "outputs": [],
   "source": [
    "scenario.add_set(\"level\", [\"primary\",\"secondary\", \"final\", \"useful\"])"
   ]
  },
  {
   "cell_type": "code",
   "execution_count": 7,
   "metadata": {},
   "outputs": [],
   "source": [
    "scenario.add_set(\"commodity\", [\"coal\", \"oil\", \"hydrogen\",\"CO2\",\"biomass\",\"gasoline\",\"diesel\",\"liquid\"])"
   ]
  },
  {
   "cell_type": "code",
   "execution_count": 8,
   "metadata": {},
   "outputs": [],
   "source": [
    "scenario.add_set(\"mode\", \"standard\")"
   ]
  },
  {
   "cell_type": "code",
   "execution_count": 9,
   "metadata": {},
   "outputs": [],
   "source": [
    "scenario.add_par(\"interestrate\", horizon, value=0.06, unit='-')"
   ]
  },
  {
   "cell_type": "code",
   "execution_count": 10,
   "metadata": {},
   "outputs": [],
   "source": [
    "scenario.add_set(\"technology\", ['oil_exc', 'oil_import', 'coal_exc', 'renewable_hydrogen','CO2_capture','biomass_exc','OTL','CTL','PTL','BTL','Transportation'])"
   ]
  },
  {
   "cell_type": "code",
   "execution_count": 11,
   "metadata": {},
   "outputs": [],
   "source": [
    "year_df = scenario.vintage_and_active_years()\n",
    "vintage_years, act_years = year_df['year_vtg'], year_df['year_act']"
   ]
  },
  {
   "cell_type": "markdown",
   "metadata": {},
   "source": [
    "demand"
   ]
  },
  {
   "cell_type": "code",
   "execution_count": 12,
   "metadata": {},
   "outputs": [],
   "source": [
    "gdp = pd.Series([1., 1.24812,1.4085 ,1.51879,1.55639,1.53383,1.43859], index=horizon)\n",
    "beta = 1\n",
    "demand = gdp ** beta"
   ]
  },
  {
   "cell_type": "code",
   "execution_count": 13,
   "metadata": {},
   "outputs": [],
   "source": [
    "demand_ini_year = 399*0.66622*1000000 # 初始需求来源 Geer Teng 2017 全部转化为汽油"
   ]
  },
  {
   "cell_type": "code",
   "execution_count": 14,
   "metadata": {},
   "outputs": [],
   "source": [
    "liquid_demand = pd.DataFrame({\n",
    "        'node': country,\n",
    "        'commodity': 'liquid',\n",
    "        'level': 'useful',\n",
    "        'year': horizon,\n",
    "        'time': 'year',\n",
    "        'value': demand_ini_year * demand,\n",
    "        'unit': 't',\n",
    "    })\n",
    "scenario.add_par(\"demand\", liquid_demand)"
   ]
  },
  {
   "cell_type": "code",
   "execution_count": 15,
   "metadata": {},
   "outputs": [
    {
     "name": "stderr",
     "output_type": "stream",
     "text": [
      "Scenario \"PTL model attempt/baseline\" has no solution\n",
      "Some reporting may not function as expected\n",
      "Failed 1 times to add:\n",
      "    ((<tom:nl-t-yv-ya>, <function add at 0x000002475EBB3B80>, 'fom:nl-t-yv-ya', 'vom:nl-t-yv-ya'), {'strict': True, 'index': True})\n",
      "    with MissingKeyError('fom:nl-t-yv-ya', 'vom:nl-t-yv-ya')\n",
      "Failed 1 times to add:\n",
      "    ((<tom:nl-t-yv-ya>, <function add at 0x000002475EBB3B80>, 'fom:nl-t-yv-ya', 'vom:nl-t-yv-ya'), {'strict': True, 'index': True})\n",
      "    with MissingKeyError('fom:nl-t-yv-ya', 'vom:nl-t-yv-ya')\n"
     ]
    },
    {
     "data": {
      "text/plain": [
       "<AxesSubplot:title={'center':'Chinese Liquid Fuel Supply System Demand'}, xlabel='Year', ylabel='Mt'>"
      ]
     },
     "execution_count": 15,
     "metadata": {},
     "output_type": "execute_result"
    },
    {
     "data": {
      "image/png": "[encoded data removed]",
      "text/plain": [
       "<Figure size 432x288 with 1 Axes>"
      ]
     },
     "metadata": {
      "needs_background": "light"
     },
     "output_type": "display_data"
    }
   ],
   "source": [
    "from message_ix.reporting import Reporter\n",
    "\n",
    "rep = Reporter.from_scenario(scenario)\n",
    "\n",
    "# Add keys like \"plot activity\" to describe reporting operations.\n",
    "# See tutorial/utils/plotting.py\n",
    "from message_ix.util.tutorial import prepare_plots\n",
    "\n",
    "prepare_plots(rep)\n",
    "rep.get(\"plot demand\")"
   ]
  },
  {
   "cell_type": "code",
   "execution_count": 16,
   "metadata": {},
   "outputs": [],
   "source": [
    "base = {\n",
    "    'node_loc': country,\n",
    "    'year_vtg': vintage_years,\n",
    "    'year_act': act_years,\n",
    "    'mode': 'standard',\n",
    "    'time': 'year',\n",
    "    'unit': '-',\n",
    "}\n",
    "\n",
    "base_input = make_df(base, node_origin=country, time_origin='year')\n",
    "base_output = make_df(base, node_dest=country, time_dest='year')"
   ]
  },
  {
   "cell_type": "code",
   "execution_count": 17,
   "metadata": {},
   "outputs": [],
   "source": [
    "oil_exc_out = make_df(base_output, technology='oil_exc', commodity='oil', \n",
    "                   level='primary', value=1.0)\n",
    "scenario.add_par('output', oil_exc_out)"
   ]
  },
  {
   "cell_type": "code",
   "execution_count": 18,
   "metadata": {},
   "outputs": [],
   "source": [
    "oil_import_out = make_df(base_output, technology='oil_import', commodity='oil', \n",
    "                   level='primary', value=1.0)\n",
    "scenario.add_par('output', oil_import_out)"
   ]
  },
  {
   "cell_type": "code",
   "execution_count": 19,
   "metadata": {},
   "outputs": [],
   "source": [
    "coal_exc_out = make_df(base_output, technology='coal_exc', commodity='coal', \n",
    "                   level='primary', value=1.0)\n",
    "scenario.add_par('output', coal_exc_out)"
   ]
  },
  {
   "cell_type": "code",
   "execution_count": 20,
   "metadata": {},
   "outputs": [],
   "source": [
    "biomass_exc_out = make_df(base_output, technology='biomass_exc', commodity='biomass', \n",
    "                   level='primary', value=1.0)  \n",
    "scenario.add_par('output', biomass_exc_out)"
   ]
  },
  {
   "cell_type": "code",
   "execution_count": 21,
   "metadata": {},
   "outputs": [],
   "source": [
    "# 可再生能源发电到电解水制氢 Christoph Falter 2020\n",
    "renewable_hygrgen_out = make_df(base_output, technology='renewable_hydrogen', commodity='hydrogen', \n",
    "                   level='primary', value=0.00111)  \n",
    "scenario.add_par('output',renewable_hygrgen_out )"
   ]
  },
  {
   "cell_type": "code",
   "execution_count": 22,
   "metadata": {},
   "outputs": [],
   "source": [
    "CO2_capture_out = make_df(base_output, technology='CO2_capture', commodity='CO2', \n",
    "                   level='primary', value=1.0)  \n",
    "scenario.add_par('output',CO2_capture_out )"
   ]
  },
  {
   "cell_type": "code",
   "execution_count": 23,
   "metadata": {},
   "outputs": [],
   "source": [
    "# coal_exc_out"
   ]
  },
  {
   "cell_type": "code",
   "execution_count": 24,
   "metadata": {},
   "outputs": [],
   "source": [
    "# OTL 技术输入输出数据  Zhou energy 2016\n",
    "OTL_out = make_df(base_output, technology='OTL', commodity='gasoline', \n",
    "                   level='secondary', value=0.37)\n",
    "scenario.add_par('output', OTL_out)\n",
    "\n",
    "OTL_out1 = make_df(base_output, technology='OTL', commodity='diesel', \n",
    "                   level='secondary', value=0.63)\n",
    "scenario.add_par('output', OTL_out1)\n",
    "\n",
    "OTL_in = make_df(base_input, technology='OTL', commodity='oil',  \n",
    "                  level='primary', value=1.1)\n",
    "scenario.add_par('input', OTL_in)"
   ]
  },
  {
   "cell_type": "code",
   "execution_count": 25,
   "metadata": {},
   "outputs": [],
   "source": [
    "# CTL 技术输入输出数据  Zhou energy 2016\n",
    "CTL_out = make_df(base_output, technology='CTL', commodity='gasoline', \n",
    "                   level='secondary', value=0.25)\n",
    "scenario.add_par('output', CTL_out)\n",
    "\n",
    "CTL_out1 = make_df(base_output, technology='CTL', commodity='diesel', \n",
    "                   level='secondary', value=0.75)\n",
    "scenario.add_par('output', CTL_out1)\n",
    "\n",
    "CTL_in = make_df(base_input, technology='CTL', commodity='coal',  \n",
    "                  level='primary', value=4.09)\n",
    "scenario.add_par('input', CTL_in)"
   ]
  },
  {
   "cell_type": "code",
   "execution_count": 26,
   "metadata": {},
   "outputs": [],
   "source": [
    "# BTL 技术输入输出数据  Ioanna Dimitrioua 2018\n",
    "BTL_out = make_df(base_output, technology='BTL', commodity='gasoline', \n",
    "                   level='secondary', value=0.25)\n",
    "scenario.add_par('output', CTL_out)\n",
    "\n",
    "BTL_out1 = make_df(base_output, technology='BTL', commodity='diesel', \n",
    "                   level='secondary', value=0.6)\n",
    "scenario.add_par('output', CTL_out1)\n",
    "\n",
    "BTL_in = make_df(base_input, technology='BTL', commodity='biomass',  \n",
    "                  level='primary', value=12.03)\n",
    "scenario.add_par('input', BTL_in)"
   ]
  },
  {
   "cell_type": "code",
   "execution_count": 27,
   "metadata": {},
   "outputs": [],
   "source": [
    "# PTL 技术输入输出数据  Christoph Falter 2020\n",
    "PTL_out = make_df(base_output, technology='PTL', commodity='gasoline', \n",
    "                   level='secondary', value=0.84)\n",
    "scenario.add_par('output', PTL_out)\n",
    "\n",
    "PTL_out1 = make_df(base_output, technology='PTL', commodity='diesel', \n",
    "                   level='secondary', value=1.0)\n",
    "scenario.add_par('output', PTL_out1)\n",
    "\n",
    "PTL_in = make_df(base_input, technology='PTL', commodity='hydrogen',  \n",
    "                  level='primary', value=0.000417)#单位 t\n",
    "scenario.add_par('input', PTL_in)\n",
    "PTL_in1 = make_df(base_input, technology='PTL', commodity='CO2',  \n",
    "                  level='primary', value=4.8)\n",
    "scenario.add_par('input', PTL_in1)"
   ]
  },
  {
   "cell_type": "code",
   "execution_count": 28,
   "metadata": {},
   "outputs": [],
   "source": [
    "# transportation 技术输入输出数据\n",
    "Transportation_out = make_df(base_output, technology='Transportation', commodity='liquid', \n",
    "                   level='useful', value=1)\n",
    "scenario.add_par('output', Transportation_out)\n",
    "\n",
    "Transportation_in = make_df(base_input, technology='Transportation', commodity='gasoline',  \n",
    "                  level='secondary', value=1)#单位 t\n",
    "scenario.add_par('input', Transportation_in)\n",
    "TransportationL_in1 = make_df(base_input, technology='Transportation', commodity='diesel',  \n",
    "                  level='secondary', value=1.05)#按照汽柴油比例1：1.05换算\n",
    "scenario.add_par('input', TransportationL_in1)"
   ]
  },
  {
   "cell_type": "markdown",
   "metadata": {},
   "source": [
    "operational constraints and parameters"
   ]
  },
  {
   "cell_type": "code",
   "execution_count": 29,
   "metadata": {},
   "outputs": [],
   "source": [
    "\n",
    "base_capacity_factor = {\n",
    "    'node_loc': country,\n",
    "    'year_vtg': vintage_years,\n",
    "    'year_act': act_years,\n",
    "    'time': 'year',\n",
    "    'unit': '-',\n",
    "}\n",
    "capacity_factor = {\n",
    "    'oil_exc': 1, \n",
    "    'oil_import': 1,\n",
    "    'coal_exc': 1, \n",
    "    'renewable_hydrogen': 0.5,\n",
    "    'CO2_capture': 1,\n",
    "    'biomass_exc': 1,\n",
    "    'OTL': 1,\n",
    "    'CTL': 1,\n",
    "    'PTL': 1,\n",
    "    'BTL': 1,\n",
    "    'Transportation': 1\n",
    " }\n",
    "\n",
    "for tec, val in capacity_factor.items():\n",
    "    df = make_df(base_capacity_factor, technology=tec, value=val)\n",
    "    scenario.add_par('capacity_factor', df)"
   ]
  },
  {
   "cell_type": "code",
   "execution_count": 30,
   "metadata": {},
   "outputs": [],
   "source": [
    "base_technical_lifetime = {\n",
    "    'node_loc': country,\n",
    "    'year_vtg': horizon,\n",
    "    'unit': 'y',\n",
    "}"
   ]
  },
  {
   "cell_type": "code",
   "execution_count": 31,
   "metadata": {},
   "outputs": [],
   "source": [
    "lifetimes = {\n",
    "    'oil_exc': 20, \n",
    "    'oil_import': 20,\n",
    "    'coal_exc': 20, \n",
    "    'renewable_hydrogen': 20,\n",
    "    'CO2_capture': 20,\n",
    "    'biomass_exc': 20,\n",
    "    'OTL': 20,\n",
    "    'CTL': 20,\n",
    "    'PTL': 20,\n",
    "    'BTL': 20,\n",
    "    'Transportation': 20\n",
    "    \n",
    "}\n",
    "\n",
    "for tec, val in lifetimes.items():\n",
    "    df = make_df(base_technical_lifetime, technology=tec, value=val)\n",
    "    scenario.add_par('technical_lifetime', df)"
   ]
  },
  {
   "cell_type": "markdown",
   "metadata": {},
   "source": [
    "growth rate constraint 50% （这一段暂时不能运行）"
   ]
  },
  {
   "cell_type": "code",
   "execution_count": 32,
   "metadata": {},
   "outputs": [],
   "source": [
    "base_growth = {\n",
    "    'node_loc': country,\n",
    "    'year_act': horizon[1:],\n",
    "    'value':20,\n",
    "    'time': 'year',\n",
    "    'unit': '%',\n",
    "}"
   ]
  },
  {
   "cell_type": "code",
   "execution_count": 33,
   "metadata": {},
   "outputs": [],
   "source": [
    "growth_technologies = [\n",
    "    'oil_exc', \n",
    "    'oil_import',\n",
    "    'coal_exc', \n",
    "    'renewable_hydrogen',\n",
    "    'CO2_capture',\n",
    "    'biomass_exc',\n",
    "    'OTL',\n",
    "    'CTL',\n",
    "    'PTL',\n",
    "    'BTL',\n",
    "    'Transportation', \n",
    "]\n",
    "\n",
    "for tec in growth_technologies:\n",
    "    df = make_df(base_growth, technology=tec) \n",
    "    scenario.add_par('growth_activity_up', df)"
   ]
  },
  {
   "cell_type": "code",
   "execution_count": 34,
   "metadata": {},
   "outputs": [
    {
     "data": {
      "text/html": [
       "<div>\n",
       "<style scoped>\n",
       "    .dataframe tbody tr th:only-of-type {\n",
       "        vertical-align: middle;\n",
       "    }\n",
       "\n",
       "    .dataframe tbody tr th {\n",
       "        vertical-align: top;\n",
       "    }\n",
       "\n",
       "    .dataframe thead th {\n",
       "        text-align: right;\n",
       "    }\n",
       "</style>\n",
       "<table border=\"1\" class=\"dataframe\">\n",
       "  <thead>\n",
       "    <tr style=\"text-align: right;\">\n",
       "      <th></th>\n",
       "      <th>node_loc</th>\n",
       "      <th>technology</th>\n",
       "      <th>year_act</th>\n",
       "      <th>time</th>\n",
       "      <th>value</th>\n",
       "      <th>unit</th>\n",
       "    </tr>\n",
       "  </thead>\n",
       "  <tbody>\n",
       "    <tr>\n",
       "      <th>0</th>\n",
       "      <td>Chinese</td>\n",
       "      <td>oil_exc</td>\n",
       "      <td>2025</td>\n",
       "      <td>year</td>\n",
       "      <td>20.0</td>\n",
       "      <td>%</td>\n",
       "    </tr>\n",
       "    <tr>\n",
       "      <th>1</th>\n",
       "      <td>Chinese</td>\n",
       "      <td>oil_exc</td>\n",
       "      <td>2030</td>\n",
       "      <td>year</td>\n",
       "      <td>20.0</td>\n",
       "      <td>%</td>\n",
       "    </tr>\n",
       "    <tr>\n",
       "      <th>2</th>\n",
       "      <td>Chinese</td>\n",
       "      <td>oil_exc</td>\n",
       "      <td>2035</td>\n",
       "      <td>year</td>\n",
       "      <td>20.0</td>\n",
       "      <td>%</td>\n",
       "    </tr>\n",
       "    <tr>\n",
       "      <th>3</th>\n",
       "      <td>Chinese</td>\n",
       "      <td>oil_exc</td>\n",
       "      <td>2040</td>\n",
       "      <td>year</td>\n",
       "      <td>20.0</td>\n",
       "      <td>%</td>\n",
       "    </tr>\n",
       "    <tr>\n",
       "      <th>4</th>\n",
       "      <td>Chinese</td>\n",
       "      <td>oil_exc</td>\n",
       "      <td>2045</td>\n",
       "      <td>year</td>\n",
       "      <td>20.0</td>\n",
       "      <td>%</td>\n",
       "    </tr>\n",
       "    <tr>\n",
       "      <th>...</th>\n",
       "      <td>...</td>\n",
       "      <td>...</td>\n",
       "      <td>...</td>\n",
       "      <td>...</td>\n",
       "      <td>...</td>\n",
       "      <td>...</td>\n",
       "    </tr>\n",
       "    <tr>\n",
       "      <th>61</th>\n",
       "      <td>Chinese</td>\n",
       "      <td>Transportation</td>\n",
       "      <td>2030</td>\n",
       "      <td>year</td>\n",
       "      <td>20.0</td>\n",
       "      <td>%</td>\n",
       "    </tr>\n",
       "    <tr>\n",
       "      <th>62</th>\n",
       "      <td>Chinese</td>\n",
       "      <td>Transportation</td>\n",
       "      <td>2035</td>\n",
       "      <td>year</td>\n",
       "      <td>20.0</td>\n",
       "      <td>%</td>\n",
       "    </tr>\n",
       "    <tr>\n",
       "      <th>63</th>\n",
       "      <td>Chinese</td>\n",
       "      <td>Transportation</td>\n",
       "      <td>2040</td>\n",
       "      <td>year</td>\n",
       "      <td>20.0</td>\n",
       "      <td>%</td>\n",
       "    </tr>\n",
       "    <tr>\n",
       "      <th>64</th>\n",
       "      <td>Chinese</td>\n",
       "      <td>Transportation</td>\n",
       "      <td>2045</td>\n",
       "      <td>year</td>\n",
       "      <td>20.0</td>\n",
       "      <td>%</td>\n",
       "    </tr>\n",
       "    <tr>\n",
       "      <th>65</th>\n",
       "      <td>Chinese</td>\n",
       "      <td>Transportation</td>\n",
       "      <td>2050</td>\n",
       "      <td>year</td>\n",
       "      <td>20.0</td>\n",
       "      <td>%</td>\n",
       "    </tr>\n",
       "  </tbody>\n",
       "</table>\n",
       "<p>66 rows × 6 columns</p>\n",
       "</div>"
      ],
      "text/plain": [
       "   node_loc      technology  year_act  time  value unit\n",
       "0   Chinese         oil_exc      2025  year   20.0    %\n",
       "1   Chinese         oil_exc      2030  year   20.0    %\n",
       "2   Chinese         oil_exc      2035  year   20.0    %\n",
       "3   Chinese         oil_exc      2040  year   20.0    %\n",
       "4   Chinese         oil_exc      2045  year   20.0    %\n",
       "..      ...             ...       ...   ...    ...  ...\n",
       "61  Chinese  Transportation      2030  year   20.0    %\n",
       "62  Chinese  Transportation      2035  year   20.0    %\n",
       "63  Chinese  Transportation      2040  year   20.0    %\n",
       "64  Chinese  Transportation      2045  year   20.0    %\n",
       "65  Chinese  Transportation      2050  year   20.0    %\n",
       "\n",
       "[66 rows x 6 columns]"
      ]
     },
     "execution_count": 34,
     "metadata": {},
     "output_type": "execute_result"
    }
   ],
   "source": [
    "scenario.par('growth_activity_up')"
   ]
  },
  {
   "cell_type": "markdown",
   "metadata": {},
   "source": [
    "base initial (这玩意是啥还不知道）"
   ]
  },
  {
   "cell_type": "markdown",
   "metadata": {},
   "source": [
    "base activity"
   ]
  },
  {
   "cell_type": "code",
   "execution_count": 35,
   "metadata": {},
   "outputs": [],
   "source": [
    "base_activity = {\n",
    "    'node_loc': country,\n",
    "    'year_act': [2020],\n",
    "    'mode': 'standard',\n",
    "    'time': 'year',\n",
    "    'unit': 't',\n",
    "}"
   ]
  },
  {
   "cell_type": "code",
   "execution_count": 36,
   "metadata": {},
   "outputs": [],
   "source": [
    "activity = {\n",
    "    'CTL': 26350000,\n",
    "    'BTL': 1000000,\n",
    "    'PTL': 0,\n",
    "    'OTL':246641964\n",
    "    \n",
    "}\n",
    "for tec, val in activity.items():\n",
    "    df = make_df(base_activity, technology=tec, value=val)\n",
    "    #scenario.add_par('bound_activity_up', df)\n",
    "    scenario.add_par('bound_activity_lo', df)"
   ]
  },
  {
   "cell_type": "markdown",
   "metadata": {},
   "source": [
    "base capacity"
   ]
  },
  {
   "cell_type": "code",
   "execution_count": 37,
   "metadata": {},
   "outputs": [],
   "source": [
    "base_capacity = {\n",
    "    'node_loc': country,\n",
    "    'year_vtg': [2020],\n",
    "    'unit': 't',\n",
    "}\n",
    "\n",
    "cf = pd.Series(capacity_factor)\n",
    "act = pd.Series(activity)\n",
    "capacity = (act / cf).dropna().to_dict()\n",
    "\n",
    "for tec, val in capacity.items():\n",
    "    df = make_df(base_capacity, technology=tec, value=val)\n",
    "    scenario.add_par('bound_new_capacity_up', df)"
   ]
  },
  {
   "cell_type": "markdown",
   "metadata": {},
   "source": [
    "Investment Costs"
   ]
  },
  {
   "cell_type": "code",
   "execution_count": 38,
   "metadata": {},
   "outputs": [],
   "source": [
    "base_inv_cost = {\n",
    "    'node_loc': country,\n",
    "    'year_vtg': horizon,\n",
    "    'unit': 'RMB/t',\n",
    "}"
   ]
  },
  {
   "cell_type": "code",
   "execution_count": 39,
   "metadata": {},
   "outputs": [],
   "source": [
    "# Adding a new unit to the library\n",
    "mp.add_unit('RMB/t')  "
   ]
  },
  {
   "cell_type": "code",
   "execution_count": 40,
   "metadata": {},
   "outputs": [],
   "source": [
    "costs = {\n",
    "    'oil_exc': 0, \n",
    "    'oil_import': 0,\n",
    "    'coal_exc': 0, \n",
    "    'renewable_hydrogen': 3430,# 找文献，待定 doi.org/10.1039/C8EE00111A (PEM) CNY/t 汇率6.5\n",
    "    'CO2_capture': 515,# CNY/T/y 来源 Christoph Falter 2020 汇率7.5 30年寿命 年产5万吨\n",
    "    'biomass_exc': 0,\n",
    "    'OTL': 2578,#文献 Huairong Zhou 2016\n",
    "    'CTL': 15495, #文献：自己文章, 太高的话尝试 12000 来源 Zhou energy 2016,原始数值 15495\n",
    "    'PTL': 6895,# 来源 Christoph Falter 2020  30年寿命 年产五万吨 单位 CNY/t/y\n",
    "    'BTL': 1526,# 来源 Ioanna Dimitrioua 2018 年产能 0.136million 吨  单位 CNY/t/y\n",
    "    'Transportation': 0\n",
    "}\n",
    "\n",
    "for tec, val in costs.items():\n",
    "    df = make_df(base_inv_cost, technology=tec, value=val)\n",
    "    scenario.add_par('inv_cost', df)"
   ]
  },
  {
   "cell_type": "markdown",
   "metadata": {},
   "source": [
    "Fixed O&M Costs"
   ]
  },
  {
   "cell_type": "code",
   "execution_count": 41,
   "metadata": {},
   "outputs": [],
   "source": [
    "base_fix_cost = {\n",
    "    'node_loc': country,\n",
    "    'year_vtg': vintage_years,\n",
    "    'year_act': act_years,\n",
    "    'unit': 'CNY/t',\n",
    "}"
   ]
  },
  {
   "cell_type": "code",
   "execution_count": 42,
   "metadata": {},
   "outputs": [],
   "source": [
    "# Adding a new unit to the library\n",
    "mp.add_unit('CNY/t')  "
   ]
  },
  {
   "cell_type": "code",
   "execution_count": 43,
   "metadata": {},
   "outputs": [],
   "source": [
    "#全部按 investment cost 的 5% 计算\n",
    "costs = {\n",
    "    'oil_exc': 0, \n",
    "    'oil_import': 0,\n",
    "    'coal_exc': 0, \n",
    "    'renewable_hydrogen': 171.5,\n",
    "    'CO2_capture': 25.75,\n",
    "    'biomass_exc': 0,\n",
    "    'OTL': 128.9,\n",
    "    'CTL': 774.75, #原始数据774.75\n",
    "    'PTL': 334.75,\n",
    "    'BTL': 76.3,\n",
    "    'Transportation': 0\n",
    "}\n",
    "\n",
    "for tec, val in costs.items():\n",
    "    df = make_df(base_fix_cost, technology=tec, value=val)\n",
    "    scenario.add_par('fix_cost', df)"
   ]
  },
  {
   "cell_type": "markdown",
   "metadata": {},
   "source": [
    "O&M Costs"
   ]
  },
  {
   "cell_type": "code",
   "execution_count": 44,
   "metadata": {},
   "outputs": [],
   "source": [
    "base_var_cost = {\n",
    "    'node_loc': country,\n",
    "    'year_vtg': vintage_years,\n",
    "    'year_act': act_years,\n",
    "    'mode': 'standard',\n",
    "    'time': 'year',\n",
    "    'unit': 'CNY/t',\n",
    "}"
   ]
  },
  {
   "cell_type": "code",
   "execution_count": 45,
   "metadata": {},
   "outputs": [],
   "source": [
    "costs = {\n",
    "    'oil_exc': 3000, \n",
    "    'oil_import': 2382,#1吨=7.33捅 按50美元计算，汇率6.5\n",
    "    'coal_exc': 10,#前三个都是暂时假设 \n",
    "    'renewable_hydrogen': 16685,#氢能报告，氢价按1.5 CNY/m^3 计算\n",
    "    'CO2_capture': 90,#来源 W.L.Becker 2012\n",
    "    'biomass_exc': 416.55,# 来源 Ioanna Dimitrioua 2018\n",
    "    'OTL': 2701,\n",
    "    'CTL': 3980, #袁术数据 3890\n",
    "    'PTL': 7878,\n",
    "    'BTL': 8491,#以上四个来源AMPL程序\n",
    "    'Transportation': 0\n",
    "}\n",
    "\n",
    "for tec, val in costs.items():\n",
    "    df = make_df(base_var_cost, technology=tec, value=val)\n",
    "    scenario.add_par('var_cost', df)"
   ]
  },
  {
   "cell_type": "code",
   "execution_count": 46,
   "metadata": {},
   "outputs": [],
   "source": [
    "scenario.add_set('emission', 'CO2')\n",
    "scenario.add_cat('emission', 'GHGs', 'CO2')"
   ]
  },
  {
   "cell_type": "code",
   "execution_count": 47,
   "metadata": {},
   "outputs": [],
   "source": [
    "base_emissions = {\n",
    "    'node_loc': country,\n",
    "    'year_vtg': vintage_years,\n",
    "    'year_act': act_years,\n",
    "    'mode': 'standard',\n",
    "    'unit': 'tCO2/kWa',\n",
    "}\n",
    "mp.add_unit('tCO2/t')\n",
    "mp.add_unit('MtCO2')\n",
    "\n",
    "emissions = {\n",
    "   'OTL': ('CO2', 0.33), # units: tCO2/t 来源 孟宪玲，当代石油化工 1t原油对应 0.3 tCO2\n",
    "    'CTL':  ('CO2', 4.75), # units: tCO2/t 来源 Meiyu Guo 2018\n",
    "    'PTL':  ('CO2', 0.05),# units: tCO2/t 来源 Matthew Jouny 2018 Fig8 按比例折算\n",
    "    'BTL':  ('CO2', 0.18)# units: tCO2/t\n",
    "}\n",
    "\n",
    "\n",
    "for tec, (species, val) in emissions.items():\n",
    "    df = make_df(base_emissions, technology=tec, emission=species, value=val)\n",
    "    scenario.add_par('emission_factor', df)"
   ]
  },
  {
   "cell_type": "code",
   "execution_count": 48,
   "metadata": {},
   "outputs": [],
   "source": [
    "comment = 'initial attempt'\n",
    "scenario.commit(comment)\n",
    "scenario.set_as_default()"
   ]
  },
  {
   "cell_type": "code",
   "execution_count": 49,
   "metadata": {},
   "outputs": [],
   "source": [
    "scenario.solve()"
   ]
  },
  {
   "cell_type": "code",
   "execution_count": 50,
   "metadata": {},
   "outputs": [
    {
     "data": {
      "text/plain": [
       "102222125858816.0"
      ]
     },
     "execution_count": 50,
     "metadata": {},
     "output_type": "execute_result"
    }
   ],
   "source": [
    "scenario.var('OBJ')['lvl']"
   ]
  },
  {
   "cell_type": "code",
   "execution_count": 51,
   "metadata": {},
   "outputs": [],
   "source": [
    "from message_ix.reporting import Reporter\n",
    "\n",
    "rep = Reporter.from_scenario(scenario)\n",
    "\n",
    "# Add keys like \"plot activity\" to describe reporting operations.\n",
    "# See tutorial/utils/plotting.py\n",
    "from message_ix.util.tutorial import prepare_plots\n",
    "\n",
    "prepare_plots(rep)"
   ]
  },
  {
   "cell_type": "code",
   "execution_count": 52,
   "metadata": {},
   "outputs": [
    {
     "data": {
      "text/plain": [
       "<AxesSubplot:title={'center':'Chinese Liquid Fuel Supply System Activity'}, xlabel='Year', ylabel='Mt'>"
      ]
     },
     "execution_count": 52,
     "metadata": {},
     "output_type": "execute_result"
    },
    {
     "data": {
      "image/png": "[encoded data removed]",
      "text/plain": [
       "<Figure size 432x288 with 1 Axes>"
      ]
     },
     "metadata": {
      "needs_background": "light"
     },
     "output_type": "display_data"
    }
   ],
   "source": [
    "# Only show a subset of technologies in the follow plots;\n",
    "# e.g. exclude \"bulb\" and \"grid\"\n",
    "rep.set_filters(t=[\"oil_exc\", \"oil_import\"])\n",
    "\n",
    "# Trigger the calculation and plotting\n",
    "rep.get(\"plot activity\")"
   ]
  },
  {
   "cell_type": "code",
   "execution_count": 53,
   "metadata": {},
   "outputs": [
    {
     "data": {
      "text/plain": [
       "<AxesSubplot:title={'center':'Chinese Liquid Fuel Supply System Activity'}, xlabel='Year', ylabel='Mt'>"
      ]
     },
     "execution_count": 53,
     "metadata": {},
     "output_type": "execute_result"
    },
    {
     "data": {
      "image/png": "[encoded data removed]",
      "text/plain": [
       "<Figure size 432x288 with 1 Axes>"
      ]
     },
     "metadata": {
      "needs_background": "light"
     },
     "output_type": "display_data"
    }
   ],
   "source": [
    "# Only show a subset of technologies in the follow plots;\n",
    "# e.g. exclude \"bulb\" and \"grid\"\n",
    "rep.set_filters(t=[\"OTL\", \"CTL\",\"PTL\",\"BTL\"])\n",
    "\n",
    "# Trigger the calculation and plotting\n",
    "rep.get(\"plot activity\")"
   ]
  },
  {
   "cell_type": "code",
   "execution_count": 54,
   "metadata": {},
   "outputs": [
    {
     "data": {
      "text/plain": [
       "<AxesSubplot:title={'center':'Chinese Liquid Fuel Supply System Capacity'}, xlabel='Year', ylabel='Mt'>"
      ]
     },
     "execution_count": 54,
     "metadata": {},
     "output_type": "execute_result"
    },
    {
     "data": {
      "image/png": "[encoded data removed]",
      "text/plain": [
       "<Figure size 432x288 with 1 Axes>"
      ]
     },
     "metadata": {
      "needs_background": "light"
     },
     "output_type": "display_data"
    }
   ],
   "source": [
    "rep.get(\"plot capacity\")"
   ]
  },
  {
   "cell_type": "code",
   "execution_count": 55,
   "metadata": {},
   "outputs": [
    {
     "data": {
      "text/plain": [
       "0      0.000000e+00\n",
       "1      0.000000e+00\n",
       "2      0.000000e+00\n",
       "3      0.000000e+00\n",
       "4      0.000000e+00\n",
       "           ...     \n",
       "237    0.000000e+00\n",
       "238    0.000000e+00\n",
       "239    4.077254e+08\n",
       "240    0.000000e+00\n",
       "241    0.000000e+00\n",
       "Name: lvl, Length: 242, dtype: float64"
      ]
     },
     "execution_count": 55,
     "metadata": {},
     "output_type": "execute_result"
    }
   ],
   "source": [
    "scenario.var('ACT')['lvl']"
   ]
  },
  {
   "cell_type": "code",
   "execution_count": 56,
   "metadata": {},
   "outputs": [],
   "source": [
    "scenario.var('ACT').to_csv('1.csv')"
   ]
  },
  {
   "cell_type": "code",
   "execution_count": 57,
   "metadata": {},
   "outputs": [],
   "source": [
    " mp.close_db()"
   ]
  },
  {
   "cell_type": "code",
   "execution_count": null,
   "metadata": {},
   "outputs": [],
   "source": []
  }
 ],
 "metadata": {
  "kernelspec": {
   "display_name": "Python [conda env:message_env]",
   "language": "python",
   "name": "conda-env-message_env-py"
  },
  "language_info": {
   "codemirror_mode": {
    "name": "ipython",
    "version": 3
   },
   "file_extension": ".py",
   "mimetype": "text/x-python",
   "name": "python",
   "nbconvert_exporter": "python",
   "pygments_lexer": "ipython3",
   "version": "3.8.10"
  }
 },
 "nbformat": 4,
 "nbformat_minor": 2
}
